{
 "cells": [
  {
   "cell_type": "markdown",
   "metadata": {},
   "source": [
    "# Complex Time Behaviour\n",
    "\n",
    "In _RecoGym_ the notion _time_ was considered as a set of _tic-tack_ events those were treated _equally_. In reality, the time has a significant impact on model behaviour, and it can be simulated quite differently.\n",
    "\n",
    "In this notebook, we will consider std. _Time Generators_ and analyse the impact of their usage."
   ]
  },
  {
   "cell_type": "code",
   "execution_count": 1,
   "metadata": {},
   "outputs": [],
   "source": [
    "import gym, reco_gym\n",
    "from copy import deepcopy\n",
    "from reco_gym import env_1_args\n",
    "import matplotlib.pyplot as plt\n",
    "import numpy as np\n",
    "\n",
    "%matplotlib notebook\n",
    "%config InlineBackend.figure_format = 'retina'\n",
    "plt.rcParams['figure.figsize'] = [8, 4]\n",
    "\n",
    "NumberOfUsers = 1\n",
    "NumberOfSamples = 20\n",
    "\n",
    "env_1_args['random_seed'] = 777\n",
    "env_1_args['sigma_omega'] = 1 # Set a big value do diversify products.\n",
    "\n",
    "env = gym.make('reco-gym-v1')\n",
    "env.init_gym(env_1_args)"
   ]
  },
  {
   "cell_type": "markdown",
   "metadata": {},
   "source": [
    "## Tick-Tack Time\n",
    "\n",
    "The most straightforward time interpretation in _RecoGym_ is tick-tack. Thus, if you look at logs of data, you shall find that time is changed incrementally _`+1`_ at each step."
   ]
  },
  {
   "cell_type": "code",
   "execution_count": 2,
   "metadata": {},
   "outputs": [],
   "source": [
    "std_data = deepcopy(env).generate_logs(NumberOfUsers)"
   ]
  },
  {
   "cell_type": "code",
   "execution_count": 3,
   "metadata": {},
   "outputs": [
    {
     "name": "stdout",
     "output_type": "stream",
     "text": [
      "Data:\n",
      "      t  u        z    v    a    c   ps\n",
      "0    0  0  organic  0.0  NaN  NaN  NaN\n",
      "1    1  0  organic  0.0  NaN  NaN  NaN\n",
      "2    2  0  organic  0.0  NaN  NaN  NaN\n",
      "3    3  0  organic  0.0  NaN  NaN  NaN\n",
      "4    4  0  organic  0.0  NaN  NaN  NaN\n",
      "5    5  0  organic  0.0  NaN  NaN  NaN\n",
      "6    6  0  organic  0.0  NaN  NaN  NaN\n",
      "7    7  0  organic  7.0  NaN  NaN  NaN\n",
      "8    8  0  organic  7.0  NaN  NaN  NaN\n",
      "9    9  0  organic  0.0  NaN  NaN  NaN\n",
      "10  10  0  organic  1.0  NaN  NaN  NaN\n",
      "11  11  0  organic  2.0  NaN  NaN  NaN\n",
      "12  12  0   bandit  NaN  3.0  0.0  0.1\n",
      "13  13  0   bandit  NaN  3.0  0.0  0.1\n",
      "14  14  0   bandit  NaN  8.0  0.0  0.1\n",
      "15  15  0   bandit  NaN  6.0  0.0  0.1\n",
      "16  16  0  organic  8.0  NaN  NaN  NaN\n",
      "17  17  0  organic  0.0  NaN  NaN  NaN\n",
      "18  18  0  organic  0.0  NaN  NaN  NaN\n",
      "19  19  0   bandit  NaN  4.0  0.0  0.1\n",
      "Data Shape:\n",
      " (111, 7)\n"
     ]
    }
   ],
   "source": [
    "print(\"Data:\\n\", std_data[:NumberOfSamples])\n",
    "print(\"Data Shape:\\n\", std_data.shape)"
   ]
  },
  {
   "cell_type": "markdown",
   "metadata": {},
   "source": [
    "*Note:* the column _**`t`**_ represents the time of the event."
   ]
  },
  {
   "cell_type": "markdown",
   "metadata": {},
   "source": [
    "## Normally Distributed Time Changes\n",
    "\n",
    "For the _Normally Distributed Time Changes_, the time is changed incrementally by the value in the range _`[0; 1]`_.\n",
    "\n",
    "By default, _Normally Distributed Time Changes_ uses these values for drawing _Normal Ditribution_:\n",
    "* $\\mu=0$\n",
    "* $\\sigma=1$"
   ]
  },
  {
   "cell_type": "code",
   "execution_count": 4,
   "metadata": {},
   "outputs": [],
   "source": [
    "from reco_gym import Configuration\n",
    "\n",
    "from reco_gym import NormalTimeGenerator\n",
    "\n",
    "normal_time_env_01 = {\n",
    "    **env_1_args,\n",
    "    'time_generator': NormalTimeGenerator(Configuration(env_1_args))\n",
    "}\n",
    "\n",
    "env.init_gym(normal_time_env_01)"
   ]
  },
  {
   "cell_type": "code",
   "execution_count": 5,
   "metadata": {},
   "outputs": [],
   "source": [
    "data_01 = deepcopy(env).generate_logs(NumberOfUsers)"
   ]
  },
  {
   "cell_type": "code",
   "execution_count": 6,
   "metadata": {},
   "outputs": [
    {
     "name": "stdout",
     "output_type": "stream",
     "text": [
      "Data:\n",
      "             t  u        z    v    a    c   ps\n",
      "0    0.000000  0  organic  0.0  NaN  NaN  NaN\n",
      "1    0.468209  0  organic  0.0  NaN  NaN  NaN\n",
      "2    1.291034  0  organic  0.0  NaN  NaN  NaN\n",
      "3    1.356414  0  organic  0.0  NaN  NaN  NaN\n",
      "4    2.069776  0  organic  0.0  NaN  NaN  NaN\n",
      "5    2.976127  0  organic  0.0  NaN  NaN  NaN\n",
      "6    3.742363  0  organic  0.0  NaN  NaN  NaN\n",
      "7    4.568417  0  organic  7.0  NaN  NaN  NaN\n",
      "8    5.892100  0  organic  7.0  NaN  NaN  NaN\n",
      "9    7.644545  0  organic  8.0  NaN  NaN  NaN\n",
      "10   8.646994  0  organic  8.0  NaN  NaN  NaN\n",
      "11   9.191803  0  organic  2.0  NaN  NaN  NaN\n",
      "12  11.086964  0   bandit  NaN  3.0  0.0  0.1\n",
      "13  11.856322  0   bandit  NaN  3.0  0.0  0.1\n",
      "14  13.259417  0   bandit  NaN  8.0  0.0  0.1\n",
      "15  13.891885  0   bandit  NaN  6.0  0.0  0.1\n",
      "16  14.450759  0  organic  8.0  NaN  NaN  NaN\n",
      "17  15.683990  0  organic  1.0  NaN  NaN  NaN\n",
      "18  16.123494  0  organic  0.0  NaN  NaN  NaN\n",
      "19  17.038281  0   bandit  NaN  4.0  0.0  0.1\n",
      "Data Shape:\n",
      " (111, 7)\n"
     ]
    }
   ],
   "source": [
    "print(\"Data:\\n\", data_01[:NumberOfSamples])\n",
    "print(\"Data Shape:\\n\", data_01.shape)"
   ]
  },
  {
   "cell_type": "markdown",
   "metadata": {},
   "source": [
    "For a more significant value of $\\mu$ but small $\\sigma$, we shall see that the time advances faster."
   ]
  },
  {
   "cell_type": "code",
   "execution_count": 7,
   "metadata": {},
   "outputs": [],
   "source": [
    "normal_time_env_02 = {\n",
    "    **env_1_args,\n",
    "    'time_generator': NormalTimeGenerator(Configuration({\n",
    "        **env_1_args,\n",
    "        'normal_time_mu': 10,\n",
    "        'normal_time_sigma': 0,\n",
    "    }))\n",
    "}\n",
    "\n",
    "env.init_gym(normal_time_env_02)"
   ]
  },
  {
   "cell_type": "code",
   "execution_count": 8,
   "metadata": {},
   "outputs": [],
   "source": [
    "data_02 = deepcopy(env).generate_logs(NumberOfUsers)"
   ]
  },
  {
   "cell_type": "code",
   "execution_count": 9,
   "metadata": {},
   "outputs": [
    {
     "name": "stdout",
     "output_type": "stream",
     "text": [
      "Data:\n",
      "         t  u        z    v    a    c   ps\n",
      "0     0.0  0  organic  0.0  NaN  NaN  NaN\n",
      "1    10.0  0  organic  0.0  NaN  NaN  NaN\n",
      "2    20.0  0  organic  0.0  NaN  NaN  NaN\n",
      "3    30.0  0  organic  9.0  NaN  NaN  NaN\n",
      "4    40.0  0  organic  0.0  NaN  NaN  NaN\n",
      "5    50.0  0  organic  7.0  NaN  NaN  NaN\n",
      "6    60.0  0  organic  7.0  NaN  NaN  NaN\n",
      "7    70.0  0  organic  7.0  NaN  NaN  NaN\n",
      "8    80.0  0  organic  7.0  NaN  NaN  NaN\n",
      "9    90.0  0  organic  8.0  NaN  NaN  NaN\n",
      "10  100.0  0  organic  8.0  NaN  NaN  NaN\n",
      "11  110.0  0  organic  8.0  NaN  NaN  NaN\n",
      "12  120.0  0   bandit  NaN  3.0  0.0  0.1\n",
      "13  130.0  0   bandit  NaN  3.0  0.0  0.1\n",
      "14  140.0  0   bandit  NaN  8.0  0.0  0.1\n",
      "15  150.0  0   bandit  NaN  6.0  0.0  0.1\n",
      "16  160.0  0  organic  8.0  NaN  NaN  NaN\n",
      "17  170.0  0  organic  8.0  NaN  NaN  NaN\n",
      "18  180.0  0  organic  8.0  NaN  NaN  NaN\n",
      "19  190.0  0   bandit  NaN  4.0  0.0  0.1\n",
      "Data Shape:\n",
      " (111, 7)\n"
     ]
    }
   ],
   "source": [
    "print(\"Data:\\n\", data_02[:NumberOfSamples])\n",
    "print(\"Data Shape:\\n\", data_02.shape)"
   ]
  },
  {
   "cell_type": "markdown",
   "metadata": {},
   "source": [
    "Here, you shall find yet another extreme when $\\mu$ is quite small, but $\\sigma$ is big."
   ]
  },
  {
   "cell_type": "code",
   "execution_count": 10,
   "metadata": {},
   "outputs": [],
   "source": [
    "normal_time_env_03 = {\n",
    "    **env_1_args,\n",
    "    'time_generator': NormalTimeGenerator(Configuration({\n",
    "        **env_1_args,\n",
    "        'normal_time_mu': 0.1,\n",
    "        'normal_time_sigma': 10,\n",
    "    }))\n",
    "}\n",
    "\n",
    "env.init_gym(normal_time_env_03)"
   ]
  },
  {
   "cell_type": "code",
   "execution_count": 11,
   "metadata": {},
   "outputs": [],
   "source": [
    "data_03 = deepcopy(env).generate_logs(NumberOfUsers)"
   ]
  },
  {
   "cell_type": "code",
   "execution_count": 12,
   "metadata": {},
   "outputs": [
    {
     "name": "stdout",
     "output_type": "stream",
     "text": [
      "Data:\n",
      "              t  u        z    v    a    c   ps\n",
      "0     0.000000  0  organic  0.0  NaN  NaN  NaN\n",
      "1     4.582088  0  organic  0.0  NaN  NaN  NaN\n",
      "2    12.710336  0  organic  0.0  NaN  NaN  NaN\n",
      "3    13.264138  0  organic  0.0  NaN  NaN  NaN\n",
      "4    20.297757  0  organic  0.0  NaN  NaN  NaN\n",
      "5    29.461266  0  organic  7.0  NaN  NaN  NaN\n",
      "6    37.223633  0  organic  7.0  NaN  NaN  NaN\n",
      "7    45.584174  0  organic  7.0  NaN  NaN  NaN\n",
      "8    58.721001  0  organic  7.0  NaN  NaN  NaN\n",
      "9    76.145447  0  organic  8.0  NaN  NaN  NaN\n",
      "10   86.269937  0  organic  8.0  NaN  NaN  NaN\n",
      "11   91.818032  0  organic  8.0  NaN  NaN  NaN\n",
      "12  110.869641  0   bandit  NaN  3.0  0.0  0.1\n",
      "13  118.463216  0   bandit  NaN  3.0  0.0  0.1\n",
      "14  132.394175  0   bandit  NaN  8.0  0.0  0.1\n",
      "15  138.618850  0   bandit  NaN  6.0  0.0  0.1\n",
      "16  144.107586  0  organic  8.0  NaN  NaN  NaN\n",
      "17  156.339900  0  organic  1.0  NaN  NaN  NaN\n",
      "18  160.634936  0  organic  1.0  NaN  NaN  NaN\n",
      "19  169.882808  0   bandit  NaN  4.0  0.0  0.1\n",
      "Data Shape:\n",
      " (111, 7)\n"
     ]
    }
   ],
   "source": [
    "print(\"Data:\\n\", data_03[:NumberOfSamples])\n",
    "print(\"Data Shape:\\n\", data_03.shape)"
   ]
  },
  {
   "cell_type": "markdown",
   "metadata": {},
   "source": [
    "Finally, let's analyse the environment where $\\Omega_{\\sigma}$ is changed _**both**_ for _Organic_ and _Bandit_ events with _Normally Distributed Time Changes_."
   ]
  },
  {
   "cell_type": "code",
   "execution_count": 13,
   "metadata": {},
   "outputs": [],
   "source": [
    "normal_time_env_04 = {\n",
    "    **env_1_args,\n",
    "    'change_omega_for_bandits': True,\n",
    "    'time_generator': NormalTimeGenerator(Configuration({\n",
    "        **env_1_args,\n",
    "        'normal_time_mu': 1,\n",
    "        'normal_time_sigma': 1,\n",
    "    })),\n",
    "}\n",
    "\n",
    "env.init_gym(normal_time_env_04)"
   ]
  },
  {
   "cell_type": "code",
   "execution_count": 14,
   "metadata": {},
   "outputs": [],
   "source": [
    "data_04 = deepcopy(env).generate_logs(NumberOfUsers)"
   ]
  },
  {
   "cell_type": "code",
   "execution_count": 15,
   "metadata": {},
   "outputs": [
    {
     "name": "stdout",
     "output_type": "stream",
     "text": [
      "Data:\n",
      "             t  u        z    v    a    c   ps\n",
      "0    0.000000  0  organic  0.0  NaN  NaN  NaN\n",
      "1    0.531791  0  organic  0.0  NaN  NaN  NaN\n",
      "2    0.708966  0  organic  0.0  NaN  NaN  NaN\n",
      "3    1.643586  0  organic  0.0  NaN  NaN  NaN\n",
      "4    1.930224  0  organic  0.0  NaN  NaN  NaN\n",
      "5    3.836575  0  organic  7.0  NaN  NaN  NaN\n",
      "6    5.602812  0  organic  8.0  NaN  NaN  NaN\n",
      "7    7.428866  0  organic  7.0  NaN  NaN  NaN\n",
      "8    7.752549  0  organic  8.0  NaN  NaN  NaN\n",
      "9    8.504993  0  organic  8.0  NaN  NaN  NaN\n",
      "10  10.507442  0  organic  8.0  NaN  NaN  NaN\n",
      "11  12.052252  0  organic  8.0  NaN  NaN  NaN\n",
      "12  14.947413  0   bandit  NaN  3.0  0.0  0.1\n",
      "13  15.178055  0   bandit  NaN  4.0  0.0  0.1\n",
      "14  15.581151  0   bandit  NaN  8.0  0.0  0.1\n",
      "15  15.948684  0   bandit  NaN  2.0  0.0  0.1\n",
      "16  16.389810  0   bandit  NaN  9.0  0.0  0.1\n",
      "17  16.623041  0   bandit  NaN  7.0  0.0  0.1\n",
      "18  17.183538  0   bandit  NaN  3.0  0.0  0.1\n",
      "19  19.098325  0   bandit  NaN  4.0  0.0  0.1\n",
      "Data Shape:\n",
      " (58, 7)\n"
     ]
    }
   ],
   "source": [
    "print(\"Data:\\n\", data_04[:NumberOfSamples])\n",
    "print(\"Data Shape:\\n\", data_04.shape)"
   ]
  },
  {
   "cell_type": "markdown",
   "metadata": {},
   "source": [
    "## Logistic Regression with a Feature Set Built with Time\n",
    "\n",
    "In _[Likelihood Agents](./Likelihood%20Agents.ipynb)_ notebook you can find a study related to a feature set that incorporates the notion _Time_.\n",
    "\n",
    "Now, having a non-linear _Time Generator_, we are going to check how that affects _`Agent`_ performance.\n",
    "\n",
    "To make the study more complecated, we are going to change the state of _RecoGym_ _**both**_ for _Bandit_ and _Organic_ _`Events`_ (by default, only _Organic_ _`Events`_ change the state i.e. $\\omega_{u,t}$).\n",
    "\n",
    "Below, you shall find performance of different _`Agents`_ with different history functions, namely:\n",
    "* $\\frac{1}{1 + t}$\n",
    "* $\\frac{1}{1 + \\ln(1 + t)}$\n",
    "* $e^{-t}$"
   ]
  },
  {
   "cell_type": "code",
   "execution_count": 16,
   "metadata": {},
   "outputs": [],
   "source": [
    "from reco_gym import Configuration\n",
    "\n",
    "from agents import RandomAgent, random_args\n",
    "from agents import LogregPolyAgent, logreg_poly_args\n",
    "\n",
    "def build_exploration_data(\n",
    "        env,\n",
    "        time_functions,\n",
    "        num_initial_train_users = 10000,\n",
    "        num_step_users = 10000\n",
    "):\n",
    "    time_env = {\n",
    "        **env_1_args,\n",
    "        'change_omega_for_bandits': True,\n",
    "        'time_generator': NormalTimeGenerator(Configuration({\n",
    "            **env_1_args,\n",
    "            'normal_time_mu': 1,\n",
    "            'normal_time_sigma': 1,\n",
    "        })),\n",
    "    }\n",
    "\n",
    "    def test_agents(agents):\n",
    "        for agent_key in agents:\n",
    "            stats = reco_gym.test_agent(\n",
    "                deepcopy(env),\n",
    "                deepcopy(agents[agent_key]),\n",
    "                10000,\n",
    "                10000\n",
    "            )\n",
    "            print(f\"Agent: {agent_key}\\n\", stats)\n",
    "\n",
    "    print(\"Agents without History Functions\")\n",
    "    test_agents(\n",
    "        {\n",
    "            'Logreg Poly': LogregPolyAgent(Configuration({\n",
    "                **env_1_args,\n",
    "                **logreg_poly_args,\n",
    "            })),\n",
    "            'Logreg Poly IPS': LogregPolyAgent(Configuration({\n",
    "                **env_1_args,\n",
    "                **logreg_poly_args,\n",
    "                'with_ips': True,\n",
    "            })),\n",
    "        }\n",
    "    )\n",
    "\n",
    "    for time_function_key in time_functions:\n",
    "        print(f\"Agents wit History Function: {time_function_key}\")\n",
    "        time_function = time_functions[time_function_key]\n",
    "        test_agents(\n",
    "            {\n",
    "                'Logreg Poly with History': LogregPolyAgent(Configuration({\n",
    "                    **env_1_args,\n",
    "                    **logreg_poly_args,\n",
    "                    'weight_history_function': time_function,\n",
    "                })),\n",
    "                'Logreg Poly IPS with History': LogregPolyAgent(Configuration({\n",
    "                    **env_1_args,\n",
    "                    **logreg_poly_args,\n",
    "                    'with_ips': True,\n",
    "                    'weight_history_function': time_function,\n",
    "                }))\n",
    "            }\n",
    "        )"
   ]
  },
  {
   "cell_type": "code",
   "execution_count": 17,
   "metadata": {},
   "outputs": [
    {
     "name": "stdout",
     "output_type": "stream",
     "text": [
      "Agents without History Functions\n",
      "Starting Agent Training #0\n",
      "Starting Agent Testing #0\n",
      "Agent: Logreg Poly\n",
      " (0.022313197436133643, 0.021985986484499728, 0.022643564484640333)\n",
      "Starting Agent Training #0\n",
      "Starting Agent Testing #0\n",
      "Agent: Logreg Poly IPS\n",
      " (0.016775348826150498, 0.016492318778343472, 0.017061543072391605)\n",
      "Agents wit History Function: 1/(1 + t)\n",
      "Starting Agent Training #0\n",
      "Starting Agent Testing #0\n",
      "Agent: Logreg Poly with History\n",
      " (0.02418050193836095, 0.023839482126387382, 0.02452467755968568)\n",
      "Starting Agent Training #0\n",
      "Starting Agent Testing #0\n",
      "Agent: Logreg Poly IPS with History\n",
      " (0.014989976328775953, 0.014723087028237956, 0.01526002226367229)\n",
      "Agents wit History Function: 1/(1 + ln(1 + t))\n",
      "Starting Agent Training #0\n",
      "Starting Agent Testing #0\n",
      "Agent: Logreg Poly with History\n",
      " (0.023093501348342763, 0.022760416990687243, 0.02342974245085161)\n",
      "Starting Agent Training #0\n",
      "Starting Agent Testing #0\n",
      "Agent: Logreg Poly IPS with History\n",
      " (0.01702941494970218, 0.016744308787400953, 0.017317682870542472)\n",
      "Agents wit History Function: exp(-t)\n",
      "Starting Agent Training #0\n",
      "Starting Agent Testing #0\n",
      "Agent: Logreg Poly with History\n",
      " (0.016965234764772588, 0.016680779674232902, 0.017252849365397838)\n",
      "Starting Agent Training #0\n",
      "Starting Agent Testing #0\n",
      "Agent: Logreg Poly IPS with History\n",
      " (0.01584294875422998, 0.015568059259810474, 0.01612100285095397)\n"
     ]
    }
   ],
   "source": [
    "import numpy as np\n",
    "\n",
    "build_exploration_data(\n",
    "    env,\n",
    "    {\n",
    "        '1/(1 + t)': lambda t: 1.0 / (1.0 + t),\n",
    "        '1/(1 + ln(1 + t))': lambda t: 1.0 / (1.0 + np.log(1.0 + t)),\n",
    "        'exp(-t)': lambda t: np.exp(-1.0 * t),\n",
    "    }\n",
    ")"
   ]
  },
  {
   "cell_type": "markdown",
   "metadata": {},
   "source": [
    "# Conclusion\n",
    "\n",
    "The notion _time_ definitely plays an important role in click prediction. Therefore, the ability to define a complex time behaviour in _RecoGym_ allows to simulate more realistic scenarios, as result, it allows to approbate some nontrivial models."
   ]
  }
 ],
 "metadata": {
  "kernelspec": {
   "display_name": "Python 3",
   "language": "python",
   "name": "python3"
  },
  "language_info": {
   "codemirror_mode": {
    "name": "ipython",
    "version": 3
   },
   "file_extension": ".py",
   "mimetype": "text/x-python",
   "name": "python",
   "nbconvert_exporter": "python",
   "pygments_lexer": "ipython3",
   "version": "3.7.1"
  }
 },
 "nbformat": 4,
 "nbformat_minor": 2
}
